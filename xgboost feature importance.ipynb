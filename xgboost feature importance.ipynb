{
 "cells": [
  {
   "cell_type": "code",
   "execution_count": 1,
   "metadata": {},
   "outputs": [],
   "source": [
    "import numpy as np\n",
    "from xgboost import XGBClassifier\n",
    "from matplotlib import pyplot as plt"
   ]
  },
  {
   "cell_type": "code",
   "execution_count": 2,
   "metadata": {},
   "outputs": [
    {
     "name": "stderr",
     "output_type": "stream",
     "text": [
      "/home/robin/.local/lib/python3.8/site-packages/pandas_datareader/compat/__init__.py:7: FutureWarning: pandas.util.testing is deprecated. Use the functions in the public API at pandas.testing instead.\n",
      "  from pandas.util.testing import assert_frame_equal\n"
     ]
    }
   ],
   "source": [
    "import pandas_datareader.data as web\n"
   ]
  },
  {
   "cell_type": "code",
   "execution_count": 5,
   "metadata": {},
   "outputs": [
    {
     "data": {
      "text/html": [
       "<div>\n",
       "<style scoped>\n",
       "    .dataframe tbody tr th:only-of-type {\n",
       "        vertical-align: middle;\n",
       "    }\n",
       "\n",
       "    .dataframe tbody tr th {\n",
       "        vertical-align: top;\n",
       "    }\n",
       "\n",
       "    .dataframe thead th {\n",
       "        text-align: right;\n",
       "    }\n",
       "</style>\n",
       "<table border=\"1\" class=\"dataframe\">\n",
       "  <thead>\n",
       "    <tr style=\"text-align: right;\">\n",
       "      <th></th>\n",
       "      <th>High</th>\n",
       "      <th>Low</th>\n",
       "      <th>Open</th>\n",
       "      <th>Close</th>\n",
       "      <th>Volume</th>\n",
       "      <th>Adj Close</th>\n",
       "    </tr>\n",
       "    <tr>\n",
       "      <th>Date</th>\n",
       "      <th></th>\n",
       "      <th></th>\n",
       "      <th></th>\n",
       "      <th></th>\n",
       "      <th></th>\n",
       "      <th></th>\n",
       "    </tr>\n",
       "  </thead>\n",
       "  <tbody>\n",
       "    <tr>\n",
       "      <th>2018-01-02</th>\n",
       "      <td>6445.910156</td>\n",
       "      <td>6326.092773</td>\n",
       "      <td>6366.083008</td>\n",
       "      <td>6339.237793</td>\n",
       "      <td>52168200.0</td>\n",
       "      <td>6339.237793</td>\n",
       "    </tr>\n",
       "    <tr>\n",
       "      <th>2018-01-03</th>\n",
       "      <td>6342.190918</td>\n",
       "      <td>6220.694824</td>\n",
       "      <td>6341.270996</td>\n",
       "      <td>6251.479004</td>\n",
       "      <td>48866400.0</td>\n",
       "      <td>6251.479004</td>\n",
       "    </tr>\n",
       "    <tr>\n",
       "      <th>2018-01-04</th>\n",
       "      <td>6292.320801</td>\n",
       "      <td>6233.937012</td>\n",
       "      <td>6257.716797</td>\n",
       "      <td>6292.320801</td>\n",
       "      <td>57864900.0</td>\n",
       "      <td>6292.320801</td>\n",
       "    </tr>\n",
       "    <tr>\n",
       "      <th>2018-01-05</th>\n",
       "      <td>6353.737793</td>\n",
       "      <td>6278.724121</td>\n",
       "      <td>6279.457031</td>\n",
       "      <td>6353.737793</td>\n",
       "      <td>74223700.0</td>\n",
       "      <td>6353.737793</td>\n",
       "    </tr>\n",
       "    <tr>\n",
       "      <th>2018-01-08</th>\n",
       "      <td>6385.403809</td>\n",
       "      <td>6349.041992</td>\n",
       "      <td>6354.361816</td>\n",
       "      <td>6385.403809</td>\n",
       "      <td>66702400.0</td>\n",
       "      <td>6385.403809</td>\n",
       "    </tr>\n",
       "    <tr>\n",
       "      <th>...</th>\n",
       "      <td>...</td>\n",
       "      <td>...</td>\n",
       "      <td>...</td>\n",
       "      <td>...</td>\n",
       "      <td>...</td>\n",
       "      <td>...</td>\n",
       "    </tr>\n",
       "    <tr>\n",
       "      <th>2020-08-28</th>\n",
       "      <td>5381.948242</td>\n",
       "      <td>5325.604980</td>\n",
       "      <td>5371.472168</td>\n",
       "      <td>5346.659180</td>\n",
       "      <td>107955900.0</td>\n",
       "      <td>5346.659180</td>\n",
       "    </tr>\n",
       "    <tr>\n",
       "      <th>2020-08-31</th>\n",
       "      <td>5369.446777</td>\n",
       "      <td>5233.143066</td>\n",
       "      <td>5346.659180</td>\n",
       "      <td>5238.486816</td>\n",
       "      <td>124088000.0</td>\n",
       "      <td>5238.486816</td>\n",
       "    </tr>\n",
       "    <tr>\n",
       "      <th>2020-09-01</th>\n",
       "      <td>5310.679199</td>\n",
       "      <td>5219.208008</td>\n",
       "      <td>5238.486816</td>\n",
       "      <td>5310.679199</td>\n",
       "      <td>90465800.0</td>\n",
       "      <td>5310.679199</td>\n",
       "    </tr>\n",
       "    <tr>\n",
       "      <th>2020-09-02</th>\n",
       "      <td>5337.099121</td>\n",
       "      <td>5295.276855</td>\n",
       "      <td>5310.679199</td>\n",
       "      <td>5311.970215</td>\n",
       "      <td>121613800.0</td>\n",
       "      <td>5311.970215</td>\n",
       "    </tr>\n",
       "    <tr>\n",
       "      <th>2020-09-03</th>\n",
       "      <td>5331.167969</td>\n",
       "      <td>5242.171875</td>\n",
       "      <td>5311.970215</td>\n",
       "      <td>5280.812988</td>\n",
       "      <td>0.0</td>\n",
       "      <td>5280.812988</td>\n",
       "    </tr>\n",
       "  </tbody>\n",
       "</table>\n",
       "<p>649 rows × 6 columns</p>\n",
       "</div>"
      ],
      "text/plain": [
       "                   High          Low         Open        Close       Volume  \\\n",
       "Date                                                                          \n",
       "2018-01-02  6445.910156  6326.092773  6366.083008  6339.237793   52168200.0   \n",
       "2018-01-03  6342.190918  6220.694824  6341.270996  6251.479004   48866400.0   \n",
       "2018-01-04  6292.320801  6233.937012  6257.716797  6292.320801   57864900.0   \n",
       "2018-01-05  6353.737793  6278.724121  6279.457031  6353.737793   74223700.0   \n",
       "2018-01-08  6385.403809  6349.041992  6354.361816  6385.403809   66702400.0   \n",
       "...                 ...          ...          ...          ...          ...   \n",
       "2020-08-28  5381.948242  5325.604980  5371.472168  5346.659180  107955900.0   \n",
       "2020-08-31  5369.446777  5233.143066  5346.659180  5238.486816  124088000.0   \n",
       "2020-09-01  5310.679199  5219.208008  5238.486816  5310.679199   90465800.0   \n",
       "2020-09-02  5337.099121  5295.276855  5310.679199  5311.970215  121613800.0   \n",
       "2020-09-03  5331.167969  5242.171875  5311.970215  5280.812988          0.0   \n",
       "\n",
       "              Adj Close  \n",
       "Date                     \n",
       "2018-01-02  6339.237793  \n",
       "2018-01-03  6251.479004  \n",
       "2018-01-04  6292.320801  \n",
       "2018-01-05  6353.737793  \n",
       "2018-01-08  6385.403809  \n",
       "...                 ...  \n",
       "2020-08-28  5346.659180  \n",
       "2020-08-31  5238.486816  \n",
       "2020-09-01  5310.679199  \n",
       "2020-09-02  5311.970215  \n",
       "2020-09-03  5280.812988  \n",
       "\n",
       "[649 rows x 6 columns]"
      ]
     },
     "execution_count": 5,
     "metadata": {},
     "output_type": "execute_result"
    }
   ],
   "source": [
    "df = web.DataReader('^JKSE', 'yahoo', '2018-01-01', '2020-09-03')\n",
    "df"
   ]
  },
  {
   "cell_type": "code",
   "execution_count": 40,
   "metadata": {},
   "outputs": [],
   "source": [
    "df.fillna(method='ffill', inplace=True)\n",
    "df.fillna(value=0, inplace=True)"
   ]
  },
  {
   "cell_type": "code",
   "execution_count": 58,
   "metadata": {},
   "outputs": [
    {
     "data": {
      "text/plain": [
       "array([[0.90367123, 0.88660452, 0.88320189, 0.8727859 , 0.29111508,\n",
       "        0.8727859 ],\n",
       "       [0.86331204, 0.84790041, 0.87417803, 0.84089281, 0.27268999,\n",
       "        0.84089281],\n",
       "       [0.8439066 , 0.85276319, 0.84379025, 0.85573544, 0.32290447,\n",
       "        0.85573544],\n",
       "       ...,\n",
       "       [0.46193059, 0.48013562, 0.47310709, 0.49898956, 0.50482781,\n",
       "        0.49898956],\n",
       "       [0.4722111 , 0.50806953, 0.4993627 , 0.49945873, 0.67864351,\n",
       "        0.49945873],\n",
       "       [0.46990317, 0.48856839, 0.49983223, 0.48813565, 0.        ,\n",
       "        0.48813565]])"
      ]
     },
     "execution_count": 58,
     "metadata": {},
     "output_type": "execute_result"
    }
   ],
   "source": [
    "from sklearn.model_selection import train_test_split\n",
    "from sklearn.preprocessing import MinMaxScaler\n",
    "\n",
    "scaler = MinMaxScaler()\n",
    "\n",
    "df_scaled = scaler.fit_transform(df)\n",
    "\n",
    "df_scaled\n"
   ]
  },
  {
   "cell_type": "code",
   "execution_count": 59,
   "metadata": {},
   "outputs": [
    {
     "data": {
      "text/plain": [
       "((434, 3), (434,))"
      ]
     },
     "execution_count": 59,
     "metadata": {},
     "output_type": "execute_result"
    }
   ],
   "source": [
    "X_train, X_test, y_train, y_test = train_test_split(df_scaled[:, 0:3], df_scaled[:, 3], test_size=0.33, shuffle=False)\n",
    "\n",
    "X_train.shape, y_train.shape"
   ]
  },
  {
   "cell_type": "code",
   "execution_count": 60,
   "metadata": {},
   "outputs": [
    {
     "data": {
      "text/plain": [
       "XGBClassifier(base_score=0.5, booster='gbtree', colsample_bylevel=1,\n",
       "              colsample_bynode=1, colsample_bytree=1, gamma=0, gpu_id=-1,\n",
       "              importance_type='gain', interaction_constraints='',\n",
       "              learning_rate=0.300000012, max_delta_step=0, max_depth=6,\n",
       "              min_child_weight=1, missing=nan, monotone_constraints='()',\n",
       "              n_estimators=100, n_jobs=0, num_parallel_tree=1,\n",
       "              objective='multi:softprob', random_state=0, reg_alpha=0,\n",
       "              reg_lambda=1, scale_pos_weight=None, subsample=1,\n",
       "              tree_method='exact', validate_parameters=1, verbosity=None)"
      ]
     },
     "execution_count": 60,
     "metadata": {},
     "output_type": "execute_result"
    }
   ],
   "source": [
    "model = XGBClassifier(booster='gbtree')\n",
    "model.fit(X_train, y_train)"
   ]
  },
  {
   "cell_type": "code",
   "execution_count": 61,
   "metadata": {},
   "outputs": [
    {
     "data": {
      "text/plain": [
       "{}"
      ]
     },
     "execution_count": 61,
     "metadata": {},
     "output_type": "execute_result"
    }
   ],
   "source": [
    "# plt.bar(range(len(model.feature_importances_)), model.feature_importances_)\n",
    "# plt.show()\n",
    "# print(model.feature_importances_)\n",
    "model.get_booster().get_score(importance_type='gain')"
   ]
  },
  {
   "cell_type": "code",
   "execution_count": 62,
   "metadata": {},
   "outputs": [
    {
     "name": "stderr",
     "output_type": "stream",
     "text": [
      "/home/robin/venv/py3/lib/python3.8/site-packages/xgboost/sklearn.py:695: RuntimeWarning: invalid value encountered in true_divide\n",
      "  return all_features / all_features.sum()\n"
     ]
    },
    {
     "data": {
      "text/plain": [
       "array([nan, nan, nan], dtype=float32)"
      ]
     },
     "execution_count": 62,
     "metadata": {},
     "output_type": "execute_result"
    }
   ],
   "source": [
    "model.feature_importances_"
   ]
  }
 ],
 "metadata": {
  "kernelspec": {
   "display_name": "py3_venv",
   "language": "python",
   "name": "py3_venv"
  },
  "language_info": {
   "codemirror_mode": {
    "name": "ipython",
    "version": 3
   },
   "file_extension": ".py",
   "mimetype": "text/x-python",
   "name": "python",
   "nbconvert_exporter": "python",
   "pygments_lexer": "ipython3",
   "version": "3.8.2"
  }
 },
 "nbformat": 4,
 "nbformat_minor": 4
}
